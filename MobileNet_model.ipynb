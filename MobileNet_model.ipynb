{
  "nbformat": 4,
  "nbformat_minor": 0,
  "metadata": {
    "colab": {
      "name": "MobileNet_model.ipynb",
      "provenance": [],
      "collapsed_sections": []
    },
    "kernelspec": {
      "name": "python3",
      "display_name": "Python 3"
    }
  },
  "cells": [
    {
      "cell_type": "code",
      "metadata": {
        "id": "Pg_h37Of2ota",
        "colab_type": "code",
        "outputId": "23f970ba-1736-4a14-c0b8-a23960f341e5",
        "colab": {
          "base_uri": "https://localhost:8080/",
          "height": 34
        }
      },
      "source": [
        "from google.colab import drive\n",
        "drive.mount('/content/gdrive',force_remount=True)"
      ],
      "execution_count": 1,
      "outputs": [
        {
          "output_type": "stream",
          "text": [
            "Mounted at /content/gdrive\n"
          ],
          "name": "stdout"
        }
      ]
    },
    {
      "cell_type": "code",
      "metadata": {
        "id": "mUH2Uwiq3h7Y",
        "colab_type": "code",
        "outputId": "11cbd0fc-91e2-46f6-83c3-65671e0fd15d",
        "colab": {
          "base_uri": "https://localhost:8080/",
          "height": 34
        }
      },
      "source": [
        "cd /content/gdrive/My Drive"
      ],
      "execution_count": 2,
      "outputs": [
        {
          "output_type": "stream",
          "text": [
            "/content/gdrive/My Drive\n"
          ],
          "name": "stdout"
        }
      ]
    },
    {
      "cell_type": "code",
      "metadata": {
        "id": "iye6ua5F32fv",
        "colab_type": "code",
        "outputId": "3c6e6967-7c22-4eb4-820b-ad854c6046bf",
        "colab": {
          "base_uri": "https://localhost:8080/",
          "height": 88
        }
      },
      "source": [
        "import pandas as pd\n",
        "import numpy as np         \n",
        "from random import shuffle\n",
        "from PIL import Image #pillow\n",
        "import matplotlib.pyplot as plt\n",
        "import seaborn as sns\n",
        "# supressing warnings\n",
        "import warnings\n",
        "warnings.filterwarnings(\"ignore\")\n",
        "from sklearn.model_selection import train_test_split\n",
        "from sklearn.metrics import precision_score,recall_score,f1_score,roc_auc_score,confusion_matrix\n",
        "from keras.models import Sequential\n",
        "from keras.layers import Conv2D, MaxPooling2D, Flatten, Dense\n",
        "import tensorflow as tf\n",
        "from keras.models import Model\n",
        "from keras.layers import Dense, GlobalAveragePooling2D\n",
        "from keras.applications import MobileNet\n",
        "train1 = np.load(\"/content/gdrive/My Drive/train_data.npy\",allow_pickle=True)\n",
        "X, y = zip(*train1)\n",
        "#list to array\n",
        "X = np.array(X)\n",
        "y = np.array(y)\n",
        "X_train, X_test, y_train, y_test = train_test_split(X, y, test_size=0.1, random_state=42)"
      ],
      "execution_count": 3,
      "outputs": [
        {
          "output_type": "stream",
          "text": [
            "/usr/local/lib/python3.6/dist-packages/statsmodels/tools/_testing.py:19: FutureWarning: pandas.util.testing is deprecated. Use the functions in the public API at pandas.testing instead.\n",
            "  import pandas.util.testing as tm\n",
            "Using TensorFlow backend.\n"
          ],
          "name": "stderr"
        }
      ]
    },
    {
      "cell_type": "code",
      "metadata": {
        "id": "cFwi3gUtu1s2",
        "colab_type": "code",
        "outputId": "ad4494ab-28af-4eec-fd6b-d476d4d3fc27",
        "colab": {
          "base_uri": "https://localhost:8080/",
          "height": 34
        }
      },
      "source": [
        "X_train.shape"
      ],
      "execution_count": 4,
      "outputs": [
        {
          "output_type": "execute_result",
          "data": {
            "text/plain": [
              "(225, 600, 600, 3)"
            ]
          },
          "metadata": {
            "tags": []
          },
          "execution_count": 4
        }
      ]
    },
    {
      "cell_type": "code",
      "metadata": {
        "id": "wE4I7tYD3X9Q",
        "colab_type": "code",
        "outputId": "e03f1c9d-117c-40f1-b403-7ec73b89dee8",
        "colab": {
          "base_uri": "https://localhost:8080/",
          "height": 1000
        }
      },
      "source": [
        "# parameters for architecture\n",
        "input_shape = (600, 600, 3)\n",
        "num_classes = 2\n",
        "conv_size = 32\n",
        "\n",
        "# parameters for training\n",
        "batch_size = 8\n",
        "num_epochs = 2\n",
        "\n",
        "# load MobileNet from Keras\n",
        "MobileNet_model = MobileNet(include_top=False, input_shape=input_shape)\n",
        "\n",
        "# add custom Layers\n",
        "x = MobileNet_model.output\n",
        "x = GlobalAveragePooling2D()(x)\n",
        "x = Dense(512, activation=\"relu\")(x)\n",
        "Custom_Output = Dense(num_classes, activation='softmax')(x)\n",
        "\n",
        "# define the input and output of the model\n",
        "MobileNet_model = Model(inputs = MobileNet_model.input, outputs = Custom_Output)\n",
        "# compile the model\n",
        "MobileNet_model.compile(loss='categorical_crossentropy',\n",
        "                    optimizer='adam',\n",
        "                    metrics=['accuracy'])\n",
        "\n",
        "MobileNet_model.summary()"
      ],
      "execution_count": 5,
      "outputs": [
        {
          "output_type": "stream",
          "text": [
            "Model: \"model_1\"\n",
            "_________________________________________________________________\n",
            "Layer (type)                 Output Shape              Param #   \n",
            "=================================================================\n",
            "input_1 (InputLayer)         (None, 600, 600, 3)       0         \n",
            "_________________________________________________________________\n",
            "conv1_pad (ZeroPadding2D)    (None, 601, 601, 3)       0         \n",
            "_________________________________________________________________\n",
            "conv1 (Conv2D)               (None, 300, 300, 32)      864       \n",
            "_________________________________________________________________\n",
            "conv1_bn (BatchNormalization (None, 300, 300, 32)      128       \n",
            "_________________________________________________________________\n",
            "conv1_relu (ReLU)            (None, 300, 300, 32)      0         \n",
            "_________________________________________________________________\n",
            "conv_dw_1 (DepthwiseConv2D)  (None, 300, 300, 32)      288       \n",
            "_________________________________________________________________\n",
            "conv_dw_1_bn (BatchNormaliza (None, 300, 300, 32)      128       \n",
            "_________________________________________________________________\n",
            "conv_dw_1_relu (ReLU)        (None, 300, 300, 32)      0         \n",
            "_________________________________________________________________\n",
            "conv_pw_1 (Conv2D)           (None, 300, 300, 64)      2048      \n",
            "_________________________________________________________________\n",
            "conv_pw_1_bn (BatchNormaliza (None, 300, 300, 64)      256       \n",
            "_________________________________________________________________\n",
            "conv_pw_1_relu (ReLU)        (None, 300, 300, 64)      0         \n",
            "_________________________________________________________________\n",
            "conv_pad_2 (ZeroPadding2D)   (None, 301, 301, 64)      0         \n",
            "_________________________________________________________________\n",
            "conv_dw_2 (DepthwiseConv2D)  (None, 150, 150, 64)      576       \n",
            "_________________________________________________________________\n",
            "conv_dw_2_bn (BatchNormaliza (None, 150, 150, 64)      256       \n",
            "_________________________________________________________________\n",
            "conv_dw_2_relu (ReLU)        (None, 150, 150, 64)      0         \n",
            "_________________________________________________________________\n",
            "conv_pw_2 (Conv2D)           (None, 150, 150, 128)     8192      \n",
            "_________________________________________________________________\n",
            "conv_pw_2_bn (BatchNormaliza (None, 150, 150, 128)     512       \n",
            "_________________________________________________________________\n",
            "conv_pw_2_relu (ReLU)        (None, 150, 150, 128)     0         \n",
            "_________________________________________________________________\n",
            "conv_dw_3 (DepthwiseConv2D)  (None, 150, 150, 128)     1152      \n",
            "_________________________________________________________________\n",
            "conv_dw_3_bn (BatchNormaliza (None, 150, 150, 128)     512       \n",
            "_________________________________________________________________\n",
            "conv_dw_3_relu (ReLU)        (None, 150, 150, 128)     0         \n",
            "_________________________________________________________________\n",
            "conv_pw_3 (Conv2D)           (None, 150, 150, 128)     16384     \n",
            "_________________________________________________________________\n",
            "conv_pw_3_bn (BatchNormaliza (None, 150, 150, 128)     512       \n",
            "_________________________________________________________________\n",
            "conv_pw_3_relu (ReLU)        (None, 150, 150, 128)     0         \n",
            "_________________________________________________________________\n",
            "conv_pad_4 (ZeroPadding2D)   (None, 151, 151, 128)     0         \n",
            "_________________________________________________________________\n",
            "conv_dw_4 (DepthwiseConv2D)  (None, 75, 75, 128)       1152      \n",
            "_________________________________________________________________\n",
            "conv_dw_4_bn (BatchNormaliza (None, 75, 75, 128)       512       \n",
            "_________________________________________________________________\n",
            "conv_dw_4_relu (ReLU)        (None, 75, 75, 128)       0         \n",
            "_________________________________________________________________\n",
            "conv_pw_4 (Conv2D)           (None, 75, 75, 256)       32768     \n",
            "_________________________________________________________________\n",
            "conv_pw_4_bn (BatchNormaliza (None, 75, 75, 256)       1024      \n",
            "_________________________________________________________________\n",
            "conv_pw_4_relu (ReLU)        (None, 75, 75, 256)       0         \n",
            "_________________________________________________________________\n",
            "conv_dw_5 (DepthwiseConv2D)  (None, 75, 75, 256)       2304      \n",
            "_________________________________________________________________\n",
            "conv_dw_5_bn (BatchNormaliza (None, 75, 75, 256)       1024      \n",
            "_________________________________________________________________\n",
            "conv_dw_5_relu (ReLU)        (None, 75, 75, 256)       0         \n",
            "_________________________________________________________________\n",
            "conv_pw_5 (Conv2D)           (None, 75, 75, 256)       65536     \n",
            "_________________________________________________________________\n",
            "conv_pw_5_bn (BatchNormaliza (None, 75, 75, 256)       1024      \n",
            "_________________________________________________________________\n",
            "conv_pw_5_relu (ReLU)        (None, 75, 75, 256)       0         \n",
            "_________________________________________________________________\n",
            "conv_pad_6 (ZeroPadding2D)   (None, 76, 76, 256)       0         \n",
            "_________________________________________________________________\n",
            "conv_dw_6 (DepthwiseConv2D)  (None, 37, 37, 256)       2304      \n",
            "_________________________________________________________________\n",
            "conv_dw_6_bn (BatchNormaliza (None, 37, 37, 256)       1024      \n",
            "_________________________________________________________________\n",
            "conv_dw_6_relu (ReLU)        (None, 37, 37, 256)       0         \n",
            "_________________________________________________________________\n",
            "conv_pw_6 (Conv2D)           (None, 37, 37, 512)       131072    \n",
            "_________________________________________________________________\n",
            "conv_pw_6_bn (BatchNormaliza (None, 37, 37, 512)       2048      \n",
            "_________________________________________________________________\n",
            "conv_pw_6_relu (ReLU)        (None, 37, 37, 512)       0         \n",
            "_________________________________________________________________\n",
            "conv_dw_7 (DepthwiseConv2D)  (None, 37, 37, 512)       4608      \n",
            "_________________________________________________________________\n",
            "conv_dw_7_bn (BatchNormaliza (None, 37, 37, 512)       2048      \n",
            "_________________________________________________________________\n",
            "conv_dw_7_relu (ReLU)        (None, 37, 37, 512)       0         \n",
            "_________________________________________________________________\n",
            "conv_pw_7 (Conv2D)           (None, 37, 37, 512)       262144    \n",
            "_________________________________________________________________\n",
            "conv_pw_7_bn (BatchNormaliza (None, 37, 37, 512)       2048      \n",
            "_________________________________________________________________\n",
            "conv_pw_7_relu (ReLU)        (None, 37, 37, 512)       0         \n",
            "_________________________________________________________________\n",
            "conv_dw_8 (DepthwiseConv2D)  (None, 37, 37, 512)       4608      \n",
            "_________________________________________________________________\n",
            "conv_dw_8_bn (BatchNormaliza (None, 37, 37, 512)       2048      \n",
            "_________________________________________________________________\n",
            "conv_dw_8_relu (ReLU)        (None, 37, 37, 512)       0         \n",
            "_________________________________________________________________\n",
            "conv_pw_8 (Conv2D)           (None, 37, 37, 512)       262144    \n",
            "_________________________________________________________________\n",
            "conv_pw_8_bn (BatchNormaliza (None, 37, 37, 512)       2048      \n",
            "_________________________________________________________________\n",
            "conv_pw_8_relu (ReLU)        (None, 37, 37, 512)       0         \n",
            "_________________________________________________________________\n",
            "conv_dw_9 (DepthwiseConv2D)  (None, 37, 37, 512)       4608      \n",
            "_________________________________________________________________\n",
            "conv_dw_9_bn (BatchNormaliza (None, 37, 37, 512)       2048      \n",
            "_________________________________________________________________\n",
            "conv_dw_9_relu (ReLU)        (None, 37, 37, 512)       0         \n",
            "_________________________________________________________________\n",
            "conv_pw_9 (Conv2D)           (None, 37, 37, 512)       262144    \n",
            "_________________________________________________________________\n",
            "conv_pw_9_bn (BatchNormaliza (None, 37, 37, 512)       2048      \n",
            "_________________________________________________________________\n",
            "conv_pw_9_relu (ReLU)        (None, 37, 37, 512)       0         \n",
            "_________________________________________________________________\n",
            "conv_dw_10 (DepthwiseConv2D) (None, 37, 37, 512)       4608      \n",
            "_________________________________________________________________\n",
            "conv_dw_10_bn (BatchNormaliz (None, 37, 37, 512)       2048      \n",
            "_________________________________________________________________\n",
            "conv_dw_10_relu (ReLU)       (None, 37, 37, 512)       0         \n",
            "_________________________________________________________________\n",
            "conv_pw_10 (Conv2D)          (None, 37, 37, 512)       262144    \n",
            "_________________________________________________________________\n",
            "conv_pw_10_bn (BatchNormaliz (None, 37, 37, 512)       2048      \n",
            "_________________________________________________________________\n",
            "conv_pw_10_relu (ReLU)       (None, 37, 37, 512)       0         \n",
            "_________________________________________________________________\n",
            "conv_dw_11 (DepthwiseConv2D) (None, 37, 37, 512)       4608      \n",
            "_________________________________________________________________\n",
            "conv_dw_11_bn (BatchNormaliz (None, 37, 37, 512)       2048      \n",
            "_________________________________________________________________\n",
            "conv_dw_11_relu (ReLU)       (None, 37, 37, 512)       0         \n",
            "_________________________________________________________________\n",
            "conv_pw_11 (Conv2D)          (None, 37, 37, 512)       262144    \n",
            "_________________________________________________________________\n",
            "conv_pw_11_bn (BatchNormaliz (None, 37, 37, 512)       2048      \n",
            "_________________________________________________________________\n",
            "conv_pw_11_relu (ReLU)       (None, 37, 37, 512)       0         \n",
            "_________________________________________________________________\n",
            "conv_pad_12 (ZeroPadding2D)  (None, 38, 38, 512)       0         \n",
            "_________________________________________________________________\n",
            "conv_dw_12 (DepthwiseConv2D) (None, 18, 18, 512)       4608      \n",
            "_________________________________________________________________\n",
            "conv_dw_12_bn (BatchNormaliz (None, 18, 18, 512)       2048      \n",
            "_________________________________________________________________\n",
            "conv_dw_12_relu (ReLU)       (None, 18, 18, 512)       0         \n",
            "_________________________________________________________________\n",
            "conv_pw_12 (Conv2D)          (None, 18, 18, 1024)      524288    \n",
            "_________________________________________________________________\n",
            "conv_pw_12_bn (BatchNormaliz (None, 18, 18, 1024)      4096      \n",
            "_________________________________________________________________\n",
            "conv_pw_12_relu (ReLU)       (None, 18, 18, 1024)      0         \n",
            "_________________________________________________________________\n",
            "conv_dw_13 (DepthwiseConv2D) (None, 18, 18, 1024)      9216      \n",
            "_________________________________________________________________\n",
            "conv_dw_13_bn (BatchNormaliz (None, 18, 18, 1024)      4096      \n",
            "_________________________________________________________________\n",
            "conv_dw_13_relu (ReLU)       (None, 18, 18, 1024)      0         \n",
            "_________________________________________________________________\n",
            "conv_pw_13 (Conv2D)          (None, 18, 18, 1024)      1048576   \n",
            "_________________________________________________________________\n",
            "conv_pw_13_bn (BatchNormaliz (None, 18, 18, 1024)      4096      \n",
            "_________________________________________________________________\n",
            "conv_pw_13_relu (ReLU)       (None, 18, 18, 1024)      0         \n",
            "_________________________________________________________________\n",
            "global_average_pooling2d_1 ( (None, 1024)              0         \n",
            "_________________________________________________________________\n",
            "dense_1 (Dense)              (None, 512)               524800    \n",
            "_________________________________________________________________\n",
            "dense_2 (Dense)              (None, 2)                 1026      \n",
            "=================================================================\n",
            "Total params: 3,754,690\n",
            "Trainable params: 3,732,802\n",
            "Non-trainable params: 21,888\n",
            "_________________________________________________________________\n"
          ],
          "name": "stdout"
        }
      ]
    },
    {
      "cell_type": "code",
      "metadata": {
        "id": "FtmHm28s4Av3",
        "colab_type": "code",
        "outputId": "df2ab3ee-34a9-4ac2-ecb6-25c068ea7b2c",
        "colab": {
          "base_uri": "https://localhost:8080/",
          "height": 476
        }
      },
      "source": [
        "history = MobileNet_model.fit(X_train, y_train,\n",
        "                    batch_size=batch_size,\n",
        "                    epochs=13,\n",
        "                    verbose=1,\n",
        "                    validation_split=0.1)"
      ],
      "execution_count": 6,
      "outputs": [
        {
          "output_type": "stream",
          "text": [
            "Train on 202 samples, validate on 23 samples\n",
            "Epoch 1/13\n",
            "202/202 [==============================] - 283s 1s/step - loss: 0.9686 - accuracy: 0.6881 - val_loss: 9.8482 - val_accuracy: 0.5217\n",
            "Epoch 2/13\n",
            "202/202 [==============================] - 274s 1s/step - loss: 0.3543 - accuracy: 0.8416 - val_loss: 1.8410 - val_accuracy: 0.6522\n",
            "Epoch 3/13\n",
            "202/202 [==============================] - 274s 1s/step - loss: 0.1340 - accuracy: 0.9604 - val_loss: 6.6746 - val_accuracy: 0.5217\n",
            "Epoch 4/13\n",
            "202/202 [==============================] - 273s 1s/step - loss: 0.0510 - accuracy: 0.9802 - val_loss: 2.0690 - val_accuracy: 0.7391\n",
            "Epoch 5/13\n",
            "202/202 [==============================] - 271s 1s/step - loss: 0.1458 - accuracy: 0.9455 - val_loss: 10.2884 - val_accuracy: 0.5217\n",
            "Epoch 6/13\n",
            "202/202 [==============================] - 273s 1s/step - loss: 0.2176 - accuracy: 0.9307 - val_loss: 16.3990 - val_accuracy: 0.5217\n",
            "Epoch 7/13\n",
            "202/202 [==============================] - 273s 1s/step - loss: 0.2096 - accuracy: 0.9208 - val_loss: 8.9685 - val_accuracy: 0.5217\n",
            "Epoch 8/13\n",
            "202/202 [==============================] - 271s 1s/step - loss: 0.0793 - accuracy: 0.9752 - val_loss: 2.0143 - val_accuracy: 0.6522\n",
            "Epoch 9/13\n",
            "202/202 [==============================] - 269s 1s/step - loss: 0.0125 - accuracy: 0.9950 - val_loss: 1.3154 - val_accuracy: 0.8261\n",
            "Epoch 10/13\n",
            "202/202 [==============================] - 269s 1s/step - loss: 0.0026 - accuracy: 1.0000 - val_loss: 0.4799 - val_accuracy: 0.9130\n",
            "Epoch 11/13\n",
            "202/202 [==============================] - 268s 1s/step - loss: 9.4289e-04 - accuracy: 1.0000 - val_loss: 0.2267 - val_accuracy: 0.9130\n",
            "Epoch 12/13\n",
            "202/202 [==============================] - 270s 1s/step - loss: 0.0011 - accuracy: 1.0000 - val_loss: 0.2790 - val_accuracy: 0.9565\n",
            "Epoch 13/13\n",
            "202/202 [==============================] - 269s 1s/step - loss: 0.0175 - accuracy: 0.9901 - val_loss: 0.3166 - val_accuracy: 0.9565\n"
          ],
          "name": "stdout"
        }
      ]
    },
    {
      "cell_type": "code",
      "metadata": {
        "id": "wZx7v35s4HnY",
        "colab_type": "code",
        "colab": {}
      },
      "source": [
        "def make_classes(y_pred):\n",
        "    for i in y_pred:\n",
        "        if i[0] > 0.5:\n",
        "            i[0]=1\n",
        "            i[1]=0\n",
        "        elif i[0] <= 0.5:\n",
        "            i[1]=1\n",
        "            i[0]=0\n",
        "    return y_pred"
      ],
      "execution_count": 0,
      "outputs": []
    },
    {
      "cell_type": "code",
      "metadata": {
        "id": "nP-kWJFl4L4G",
        "colab_type": "code",
        "outputId": "289d9448-a374-43f2-a3c7-43520bbc97e8",
        "colab": {
          "base_uri": "https://localhost:8080/",
          "height": 85
        }
      },
      "source": [
        "y_tINRV2_pred = MobileNet_model.predict(X_test)\n",
        "make_classes(y_tINRV2_pred)\n",
        "testy = y_test[:, 0]\n",
        "yt_classes = y_tINRV2_pred[:, 0]\n",
        "# accuracy: (tp + tn) / (p + n)\n",
        "accuracy = roc_auc_score(testy, yt_classes)\n",
        "print('Accuracy: %f' % accuracy)\n",
        "# precision tp / (tp + fp)\n",
        "precision = precision_score(testy, yt_classes)\n",
        "print('Precision: %f' % precision)\n",
        "# recall: tp / (tp + fn)\n",
        "recall = recall_score(testy, yt_classes)\n",
        "print('Recall: %f' % recall)\n",
        "# f1: 2 tp / (2 tp + fp + fn)\n",
        "f1 = f1_score(testy, yt_classes)\n",
        "print('F1 score: %f' % f1)"
      ],
      "execution_count": 8,
      "outputs": [
        {
          "output_type": "stream",
          "text": [
            "Accuracy: 1.000000\n",
            "Precision: 1.000000\n",
            "Recall: 1.000000\n",
            "F1 score: 1.000000\n"
          ],
          "name": "stdout"
        }
      ]
    },
    {
      "cell_type": "code",
      "metadata": {
        "id": "KIiZ5p0V4SE0",
        "colab_type": "code",
        "outputId": "90bd8ee7-683f-484c-c063-ce5f69a22b39",
        "colab": {
          "base_uri": "https://localhost:8080/",
          "height": 273
        }
      },
      "source": [
        "matrix = confusion_matrix(testy, yt_classes)      \n",
        "df_cm = pd.DataFrame(matrix, range(2),\n",
        "                  range(2))\n",
        "sns.set(font_scale=1.4)#for label size\n",
        "sns.heatmap(df_cm, annot=True,annot_kws={\"size\": 16});# font size"
      ],
      "execution_count": 9,
      "outputs": [
        {
          "output_type": "display_data",
          "data": {
            "image/png": "[encoded data removed]",
            "text/plain": [
              "<Figure size 432x288 with 2 Axes>"
            ]
          },
          "metadata": {
            "tags": []
          }
        }
      ]
    },
    {
      "cell_type": "code",
      "metadata": {
        "id": "fDjchNT94Uw2",
        "colab_type": "code",
        "outputId": "0a96b88c-dcaf-445f-b3b2-a3c1aa7293d5",
        "colab": {
          "base_uri": "https://localhost:8080/",
          "height": 283
        }
      },
      "source": [
        "plt.plot(history.history['loss'], label='train')\n",
        "plt.plot(history.history['val_loss'], label='test')\n",
        "plt.title('model loss')\n",
        "plt.ylabel('loss')\n",
        "plt.xlabel('epochs')\n",
        "plt.legend();\n",
        "plt.subplot(1, 2, 2)\n",
        "plt.plot(history.history['accuracy'])\n",
        "plt.plot(history.history['val_accuracy'])\n",
        "plt.title('model accuracy')\n",
        "plt.ylabel('accuracy')\n",
        "plt.xlabel('epochs')\n",
        "plt.legend(['train', 'test'], loc='lower right')\n",
        "plt.tight_layout();"
      ],
      "execution_count": 10,
      "outputs": [
        {
          "output_type": "display_data",
          "data": {
            "image/png": "[encoded data removed]",
            "text/plain": [
              "<Figure size 432x288 with 1 Axes>"
            ]
          },
          "metadata": {
            "tags": []
          }
        }
      ]
    },
    {
      "cell_type": "code",
      "metadata": {
        "id": "Yqq2z_IB4Xbd",
        "colab_type": "code",
        "colab": {}
      },
      "source": [
        "#saving the model \n",
        "# serialize model to JSON\n",
        "model_json = MobileNet_model.to_json()\n",
        "with open(\"MobileNet_model.json\", \"w\") as json_file:\n",
        "    json_file.write(model_json)\n",
        "MobileNet_model.save_weights('MobileNet_model_wieghts.h5')"
      ],
      "execution_count": 0,
      "outputs": []
    },
    {
      "cell_type": "code",
      "metadata": {
        "id": "OaNXzvjXNkBR",
        "colab_type": "code",
        "colab": {}
      },
      "source": [
        ""
      ],
      "execution_count": 0,
      "outputs": []
    }
  ]
}